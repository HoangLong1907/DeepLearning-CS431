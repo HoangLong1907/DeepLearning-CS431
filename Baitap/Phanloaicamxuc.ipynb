{
  "nbformat": 4,
  "nbformat_minor": 0,
  "metadata": {
    "anaconda-cloud": {},
    "colab": {
      "name": "assignment3.ipynb",
      "provenance": [],
      "collapsed_sections": [
        "5bLcIA3Pgq38",
        "Zt4B8-bXgq38",
        "xpz6J3NDgq4A",
        "4dXhBE_bgq4B",
        "CdHfqxTcgq4C",
        "bzSXFYQtgq4E",
        "-Ao5Q9u5gq4K",
        "tXcUM64bgq4M",
        "MIKpCqSjgq4M"
      ],
      "include_colab_link": true
    },
    "kernelspec": {
      "display_name": "Python 3",
      "language": "python",
      "name": "python3"
    },
    "language_info": {
      "codemirror_mode": {
        "name": "ipython",
        "version": 3
      },
      "file_extension": ".py",
      "mimetype": "text/x-python",
      "name": "python",
      "nbconvert_exporter": "python",
      "pygments_lexer": "ipython3",
      "version": "3.6.4"
    }
  },
  "cells": [
    {
      "cell_type": "markdown",
      "metadata": {
        "id": "view-in-github",
        "colab_type": "text"
      },
      "source": [
        "<a href=\"https://colab.research.google.com/github/HoangLong1907/DeepLearning-CS431/blob/main/Baitap/Phanloaicamxuc.ipynb\" target=\"_parent\"><img src=\"https://colab.research.google.com/assets/colab-badge.svg\" alt=\"Open In Colab\"/></a>"
      ]
    },
    {
      "cell_type": "markdown",
      "metadata": {
        "id": "IxXDzZhIgq3u"
      },
      "source": [
        "# Tạo máy ảo bằng Google Colab"
      ]
    },
    {
      "cell_type": "code",
      "metadata": {
        "colab": {
          "base_uri": "https://localhost:8080/"
        },
        "id": "JvM_k_hxLKP0",
        "outputId": "c1edc50c-9459-4593-e815-c5be6be9cfd8"
      },
      "source": [
        "from google.colab import drive\n",
        "drive.mount('/content/drive')"
      ],
      "execution_count": null,
      "outputs": [
        {
          "output_type": "stream",
          "text": [
            "Mounted at /content/drive\n"
          ],
          "name": "stdout"
        }
      ]
    },
    {
      "cell_type": "markdown",
      "metadata": {
        "id": "L2CWJAbLgq3y"
      },
      "source": [
        "## Kill kernel cũ đi đồng thời tạo kết nối mới"
      ]
    },
    {
      "cell_type": "markdown",
      "metadata": {
        "id": "NL9nnc8ngq32"
      },
      "source": [
        "## Cài đặt các thư viện cần thiết và chứng thực"
      ]
    },
    {
      "cell_type": "markdown",
      "metadata": {
        "id": "mfc4jWDXgq33"
      },
      "source": [
        "# Phân tích cảm xúc với LSTMs"
      ]
    },
    {
      "cell_type": "markdown",
      "metadata": {
        "id": "WKEct1KQgq34"
      },
      "source": [
        "Trong assignment này, chúng ta sẽ dùng mạng LSTM để giải quyết bài toán phân tích cảm xúc (Sentiment Analysis) trên tập dữ liệu văn bản. Nếu nhìn theo kiểu black box, đầu vào của bài toán là một câu hoặc đoạn văn bản và đầu ra là trạng thái tích cực, tiêu cực hay trung hoà (positive - negative - neutral). Trong phạm vi của assignment này, chúng ta chỉ quan tâm đến hai trạng thái cảm xúc là positive và negative.\n",
        "\n",
        "![caption](Images/input_output.png)"
      ]
    },
    {
      "cell_type": "markdown",
      "metadata": {
        "id": "beyWbUn-gq34"
      },
      "source": [
        "# Góc nhìn Word Vectors"
      ]
    },
    {
      "cell_type": "markdown",
      "metadata": {
        "id": "z_UkkAQsgq35"
      },
      "source": [
        "Nếu như chúng ta giữ nguyên định dạng đầu vào là chuỗi ký tự thì rất khó để thực hiện các thao tác biến đổi như tích vô hướng (dot product) hoặc các thuật toán trên mạng neural network như backpropagation. Thay vì dữ liệu đầu vào là một chuỗi, chúng ta cần chuyển đổi các từ trong tập từ điển sang dạng vector số học trong đó có thể thực hiện được các phép toán nêu trên.\n",
        "\n",
        "![caption](Images/word2vec.png)\n",
        "\n",
        "Trong hình minh hoạ ở trên, ta có thể hình dung dữ liệu đầu vào của thuật toán phân tích cảm xúc là một ma trận 16 x D chiều. Trong đó 16 là số lượng từ trong câu và D là số chiều của không gian vector để biểu diễn từ. Để ánh xạ từ một từ sang một vector, chúng ta sử dụng ma trận word embedding như đã thực hiện trong bài Lab 2."
      ]
    },
    {
      "cell_type": "markdown",
      "metadata": {
        "id": "JNL2oOqBgq35"
      },
      "source": [
        "## Tập dữ liệu"
      ]
    },
    {
      "cell_type": "markdown",
      "metadata": {
        "id": "Uh3NPY9mgq35"
      },
      "source": [
        "Trong assignment này, chúng tôi sử dụng tập dữ liệu review trên trang Foody với khoảng 30,000 mẫu được gán nhãn. Trong đó có 15,000 mẫu positive và 15,000 mẫu negative. Nguồn: https://streetcodevn.com/blog/dataset. Tập dữ liệu này đã được đính kèm trong thư mục của assignment 3."
      ]
    },
    {
      "cell_type": "markdown",
      "metadata": {
        "id": "n-nV6oQwgq36"
      },
      "source": [
        "## Các bước để huấn luyện trên mạng RNN"
      ]
    },
    {
      "cell_type": "markdown",
      "metadata": {
        "id": "0hv31K5Jgq36"
      },
      "source": [
        "Có 5 bước chính để giải quyết bài toán phân tích cảm xúc trong văn bản:\n",
        "\n",
        "    1) Huấn luyện một mô hình phát sinh ra vector từ (như mô hình Word2Vec) hoặc tải lên các vector từ tiền huấn luyện.\n",
        "    2) Tạo ma trận ID cho tập dữ liệu huấn luyện\n",
        "    3) Tạo mô hình RNN với các đơn vị LSTM, sử dụng tensorflow\n",
        "    4) Huấn luyện mô hình RNN với dữ liệu ma trận đã tạo ở bước 2\n",
        "    5) Đánh giá mô hình đã huấn luyện với tập test"
      ]
    },
    {
      "cell_type": "markdown",
      "metadata": {
        "id": "5gcsShKXgq36"
      },
      "source": [
        "# 1. Load tập từ vựng và ma trận word embedding"
      ]
    },
    {
      "cell_type": "markdown",
      "metadata": {
        "id": "1wEduzjFgq36"
      },
      "source": [
        "Đầu tiên, để có thể biến đổi một từ thành một vector, chúng ta sử dụng mô hình đã được huấn luyện trước đó (pretrained model). Mô hình đã train trước đó cho tiếng Việt được lấy ở đây: https://s3-us-west-1.amazonaws.com/fasttext-vectors/word-vectors-v2/cc.vi.300.vec.gz\n",
        "\n",
        "Tuy nhiên, số lượng từ vựng tiếng Việt được huấn luyện rất lớn, khoảng 2M từ. Mỗi từ được biểu diễn dưới dạng một vector 300 chiều. Với kích thước gốc của ma trận word embedding như vậy sẽ gây khó khăn cho việc load dữ liệu cũng như đưa vào thư viện tensorflow để huấn luyện nên chúng tôi đã tối giản lại với số lượng từ tối thiểu để có thể chạy được trên tập dữ liệu review về đồ ăn của Foody.\n"
      ]
    },
    {
      "cell_type": "code",
      "metadata": {
        "colab": {
          "base_uri": "https://localhost:8080/"
        },
        "id": "srkOEKqBgq37",
        "outputId": "b3286c61-048b-4271-98e3-1fa93bd32ed7"
      },
      "source": [
        "import numpy as np\n",
        "import os\n",
        "# LƯU Ý: CẦN PHẢI CHỈNH LẠI ĐƯỜNG DẪN NÀY THÀNH THƯ MỤC CHỨA CÁC FILE ASSIGNMENT3\n",
        "# CHỮ 'drive' có nghĩa là thư mục mặc định của Google drive\n",
        "currentDir = '/content/drive/MyDrive/DeepLearning/Foody/'\n",
        "\n",
        "wordsList = np.load(os.path.join(currentDir, 'wordsList.npy'))\n",
        "print('Simplified vocabulary loaded!')\n",
        "wordsList = wordsList.tolist()\n",
        "#wordsList = [word.decode('UTF-8') for word in wordsList] #Encode words as UTF-8\n",
        "wordVectors = np.load(os.path.join(currentDir, 'wordVectors.npy'))\n",
        "wordVectors = np.float32(wordVectors)\n",
        "print ('Word embedding matrix loaded!')"
      ],
      "execution_count": null,
      "outputs": [
        {
          "output_type": "stream",
          "text": [
            "Simplified vocabulary loaded!\n",
            "Word embedding matrix loaded!\n"
          ],
          "name": "stdout"
        }
      ]
    },
    {
      "cell_type": "markdown",
      "metadata": {
        "id": "B0vkjJ0mgq37"
      },
      "source": [
        "Để chắc chắn mọi dữ liệu được load lên một cách chính xác, chúng ta cần kiểm tra xem số lượng từ trong từ điển rút gọn và số chiều của ma trận word embedding có khớp với nhau hay không? Trong trường hợp này số từ mà chúng tôi giữ lại là 19,899 và số chiều trong không gian biểu diễn là 300 chiều."
      ]
    },
    {
      "cell_type": "code",
      "metadata": {
        "colab": {
          "base_uri": "https://localhost:8080/"
        },
        "id": "8JkUxKxWgq37",
        "outputId": "78a82a87-840f-4c14-bf5c-28148934a210"
      },
      "source": [
        "print('Size of the vocabulary: ', len(wordsList))\n",
        "print('Size of the word embedding matrix: ', wordVectors.shape)"
      ],
      "execution_count": null,
      "outputs": [
        {
          "output_type": "stream",
          "text": [
            "Size of the vocabulary:  19899\n",
            "Size of the word embedding matrix:  (19899, 300)\n"
          ],
          "name": "stdout"
        }
      ]
    },
    {
      "cell_type": "markdown",
      "metadata": {
        "id": "5bLcIA3Pgq38"
      },
      "source": [
        "## Word2Vec trên một từ đơn"
      ]
    },
    {
      "cell_type": "markdown",
      "metadata": {
        "id": "zK6Xi8SHgq38"
      },
      "source": [
        "Để có thể xác định được vector biểu diễn của một từ tiếng Việt. Đầu tiên chúng ta sẽ xác định xem vị trí của từ đó trong wordsList. Sau đó lấy vector ở dòng tương ứng trên trên ma trận wordVectors. "
      ]
    },
    {
      "cell_type": "code",
      "metadata": {
        "colab": {
          "base_uri": "https://localhost:8080/"
        },
        "id": "DNvNUlIGgq38",
        "scrolled": true,
        "outputId": "198ab7ca-f4ec-40d5-e8b0-28c62bc48f8d"
      },
      "source": [
        "ngon_idx = wordsList.index('ngon')\n",
        "print('Index of `ngon` in wordsList: ', ngon_idx)\n",
        "ngon_vec = wordVectors[ngon_idx]\n",
        "print('Vector representation of `ngon` is: ', ngon_vec)"
      ],
      "execution_count": null,
      "outputs": [
        {
          "output_type": "stream",
          "text": [
            "Index of `ngon` in wordsList:  14598\n",
            "Vector representation of `ngon` is:  [-2.040e-02 -9.800e-03  2.290e-01 -3.770e-02  5.430e-02 -2.680e-02\n",
            "  2.190e-02 -6.290e-02 -2.200e-02 -1.010e-02  8.300e-03 -8.810e-02\n",
            " -3.630e-02  7.820e-02 -7.780e-02 -4.930e-02 -6.600e-03 -1.026e-01\n",
            " -1.040e-02  5.380e-02  4.100e-02  6.530e-02 -2.770e-02 -6.340e-02\n",
            "  2.270e-02  4.420e-02  3.340e-02 -4.960e-02  8.290e-02 -3.990e-02\n",
            "  3.750e-02  1.800e-02 -1.115e-01 -7.200e-02 -5.060e-02 -1.051e-01\n",
            " -4.560e-02 -1.765e-01 -3.300e-02 -6.800e-03  5.580e-02 -4.180e-02\n",
            "  4.380e-02  4.940e-02  7.400e-03  4.020e-02 -8.850e-02 -9.840e-02\n",
            " -5.210e-02 -5.500e-03  3.730e-02 -8.460e-02 -6.910e-02 -4.980e-02\n",
            " -3.910e-02 -4.980e-02 -8.690e-02  6.100e-03 -5.360e-02 -3.800e-03\n",
            "  1.162e-01 -4.160e-02  5.000e-03 -7.240e-02 -3.320e-02  1.800e-02\n",
            "  1.200e-02 -4.420e-02  1.350e-01  6.580e-02 -1.110e-02  1.960e-02\n",
            "  1.750e-02  2.010e-02  2.200e-03  1.810e-01 -6.610e-02 -6.860e-02\n",
            " -4.690e-02  7.890e-02  6.880e-02 -5.320e-02  2.770e-02  5.710e-02\n",
            " -1.183e-01  4.170e-02 -8.200e-02 -5.900e-02  8.790e-02  9.640e-02\n",
            "  6.000e-02  1.330e-02 -3.640e-02 -1.110e-02 -2.200e-02  1.770e-02\n",
            " -3.420e-02 -4.020e-02  3.590e-02  1.467e-01 -1.730e-02 -2.650e-02\n",
            "  6.400e-02  7.000e-03 -3.930e-02 -5.540e-02 -4.360e-02  8.000e-02\n",
            " -5.480e-02  3.840e-02 -8.330e-02  7.070e-02 -9.100e-03  2.480e-02\n",
            " -7.500e-03  3.030e-02 -6.600e-03 -9.800e-03  7.640e-02 -9.300e-03\n",
            "  2.330e-02 -2.000e-02  5.970e-02 -2.680e-02 -2.000e-02 -9.700e-03\n",
            " -5.310e-02 -9.820e-02 -2.570e-02  2.400e-02 -5.860e-02  1.820e-02\n",
            " -4.280e-02  9.580e-02  3.400e-02 -7.100e-03 -6.200e-03  1.239e-01\n",
            "  4.830e-02 -4.050e-02  4.810e-02 -1.093e-01  1.540e-02 -3.860e-02\n",
            "  1.250e-01 -7.950e-02  6.800e-03  7.420e-02  5.500e-02 -4.130e-02\n",
            " -2.090e-02 -2.250e-02  3.960e-02 -1.086e-01 -2.200e-02 -4.420e-02\n",
            "  1.965e-01 -2.260e-02  1.196e-01  1.200e-02  1.199e-01 -8.700e-03\n",
            "  4.260e-02  3.460e-02 -3.780e-02  1.951e-01 -9.300e-03 -6.260e-02\n",
            "  2.730e-02  7.340e-02  1.800e-03  5.080e-02 -3.470e-02 -9.680e-02\n",
            " -1.278e-01  3.790e-02  6.920e-02 -5.300e-02 -1.020e-01  1.076e-01\n",
            "  1.361e-01 -7.390e-02  9.650e-02 -2.250e-02  1.597e-01 -2.750e-02\n",
            " -4.200e-03  1.032e-01 -4.910e-02 -7.100e-03 -1.840e-02  7.240e-02\n",
            " -2.040e-02 -5.010e-02 -2.000e-04 -4.190e-02 -5.720e-02 -8.000e-03\n",
            "  9.780e-02 -7.130e-02 -6.070e-02 -1.740e-02 -1.290e-02  8.250e-02\n",
            "  6.600e-03 -2.250e-02 -5.100e-02  6.520e-02 -1.870e-02  5.790e-02\n",
            "  1.814e-01 -1.220e-01  4.770e-02  5.300e-02 -4.230e-02  2.139e-01\n",
            " -9.100e-03  1.314e-01 -3.600e-02 -3.780e-02  4.260e-02  3.000e-04\n",
            " -8.200e-02  1.570e-02 -1.380e-02  3.420e-02 -2.080e-02  1.790e-01\n",
            "  5.240e-02 -1.464e-01  6.330e-02  5.620e-02  2.000e-03 -6.490e-02\n",
            "  4.000e-04 -1.310e-02  1.020e-02  6.380e-02 -1.190e-02  2.440e-02\n",
            " -1.430e-02  1.027e-01  3.200e-03 -1.120e-02  8.270e-02  5.690e-02\n",
            "  2.740e-02 -9.800e-02 -3.150e-02 -9.750e-02 -1.660e-02  7.640e-02\n",
            " -4.960e-02 -7.940e-02  1.177e-01 -2.800e-03  6.860e-02 -5.930e-02\n",
            "  7.470e-02  5.790e-02  3.450e-02  5.550e-02 -3.380e-02  1.292e-01\n",
            "  3.840e-02  7.440e-02 -6.450e-02  2.470e-02 -1.810e-02  9.840e-02\n",
            " -1.329e-01 -6.380e-02 -8.360e-02 -3.580e-02  6.500e-03  8.240e-02\n",
            " -6.140e-02 -1.116e-01  2.310e-02  8.070e-02 -1.670e-02  4.150e-02\n",
            " -8.210e-02  6.290e-02 -5.580e-02  2.600e-03 -2.170e-02  3.200e-03\n",
            " -5.500e-03  6.040e-02  2.990e-02 -1.061e-01  5.200e-02  7.560e-02\n",
            "  6.250e-02  1.007e-01 -1.080e-01 -5.420e-02 -6.620e-02  6.080e-02]\n"
          ],
          "name": "stdout"
        }
      ]
    },
    {
      "cell_type": "markdown",
      "metadata": {
        "id": "Zt4B8-bXgq38"
      },
      "source": [
        "### ToDo 3.1: Word2Vec để biểu diễn một đoạn văn bản"
      ]
    },
    {
      "cell_type": "markdown",
      "metadata": {
        "id": "vKdElroAgq39"
      },
      "source": [
        "Nâng cấp hơn so với phiên bản Word2Vec cho từ đơn, phần này chúng ta sẽ biểu diễn một câu dưới dạng một ma trận gồm các vector biểu diễn của từng từ chồng lên nhau.\n",
        "\n",
        "Ví dụ như chúng ta muốn biểu diễn câu \"Món này ăn hoài không biết chán\". Đầu tiên, với mỗi từ trong câu ta sẽ tìm chỉ số tương ứng trong từ điển và lưu vào vector đặt tên là 'sentenceIndexes'. Sau đó, chúng ta có thể sử dụng hàm tra cứu ma trận word embedding của thư viện Tensorflow tf.nn.embedding_lookup để tra các vector tại các chỉ số trong 'sentenceIndexes'. Như vậy nếu chúng ta sử dụng tối đa 10 từ để lưu trữ cho một câu thì ma trận biểu diễn cho câu sẽ là một ma trận kích thước 10 x 300."
      ]
    },
    {
      "cell_type": "markdown",
      "metadata": {
        "id": "x3L1KZ6egq39"
      },
      "source": [
        "![caption](Images/embedding.png)"
      ]
    },
    {
      "cell_type": "code",
      "metadata": {
        "colab": {
          "base_uri": "https://localhost:8080/"
        },
        "id": "IRKntK0-gq39",
        "outputId": "c50f05e8-148e-469a-f580-3365a3003ca8"
      },
      "source": [
        "import tensorflow.compat.v1 as tf\n",
        "tf.disable_v2_behavior()\n",
        "\n",
        "maxSeqLength = 10   #Maximum length of sentence\n",
        "numDimensions = 300 #Dimensions for each word vector\n",
        "sentenceIndexes = np.zeros((maxSeqLength), dtype='int32')\n",
        "\n",
        "# TODO 3.1: Gán chỉ số của các từ trong câu và 'sentenceIndexes'\n",
        "...\n",
        "\n",
        "# Các chỉ số 7, 8, 9 của sentenceIndexes  vẫn được gán bằng 0 như cũ\n",
        "print(sentenceIndexes.shape)\n",
        "print('Row index for each word: ', sentenceIndexes)\n",
        "\n",
        "# Ma trận biểu diễn:\n",
        "print('Sentence representation of word vectors:')\n",
        "with tf.compat.v1.Session() as sess:\n",
        "    print(tf.nn.embedding_lookup(wordVectors,sentenceIndexes).eval().shape)"
      ],
      "execution_count": null,
      "outputs": [
        {
          "output_type": "stream",
          "text": [
            "WARNING:tensorflow:From /usr/local/lib/python3.7/dist-packages/tensorflow/python/compat/v2_compat.py:96: disable_resource_variables (from tensorflow.python.ops.variable_scope) is deprecated and will be removed in a future version.\n",
            "Instructions for updating:\n",
            "non-resource variables are not supported in the long term\n",
            "(10,)\n",
            "Row index for each word:  [0 0 0 0 0 0 0 0 0 0]\n",
            "Sentence representation of word vectors:\n",
            "(10, 300)\n"
          ],
          "name": "stdout"
        }
      ]
    },
    {
      "cell_type": "markdown",
      "metadata": {
        "id": "vyrfTzlSgq3-"
      },
      "source": [
        "Nếu như thực hiện đúng thì vector 'sentenceIndexes' sẽ có giá trị là: [119, 8136, 4884, 18791, 16614, 15951, 3371, 0, 0, 0]"
      ]
    },
    {
      "cell_type": "markdown",
      "metadata": {
        "id": "ShYj0nZ4gq3-"
      },
      "source": [
        "# 2. Khảo sát tập dữ liệu huấn luyện và tạo ma trận ID"
      ]
    },
    {
      "cell_type": "markdown",
      "metadata": {
        "id": "FOnsBVE2gq3-"
      },
      "source": [
        "Trong assignment 3, chúng tôi sử dụng tập dữ liệu lấy từ trang web Foody trên miền dữ liệu liên quan đến ẩm thực. Tập dữ liệu bao gôm 15.000 review tích cực đặt trong thư mục 'positiveReviews' và 15.000 review tiêu cực đặt trong thư mục 'negativeReviews'. Do khối lượng dữ liệu lớn, nếu chúng ta chọn số lượng từ tối đa (maxSeqLength) quá cao thì sẽ bị lãng phí khi biểu diễn ở những câu review quá ngắn. Ngược lại, nếu sử dụng số lượng từ tối đa quá ít thì sẽ bị bỏ lỡ những từ quan trọng giúp cho việc phân tích cảm xúc.\n",
        "\n"
      ]
    },
    {
      "cell_type": "code",
      "metadata": {
        "colab": {
          "background_save": true,
          "base_uri": "https://localhost:8080/"
        },
        "id": "H7z9kpGEgq3-",
        "scrolled": true,
        "outputId": "84d36d2d-95db-41dd-f614-2e0057c71d24"
      },
      "source": [
        "from os import listdir\n",
        "from os.path import isfile, join\n",
        "\n",
        "path_1 = \"/content/drive/MyDrive/DeepLearning/Foody/positiveReviews/\" \n",
        "positiveFiles = [os.path.join(path_1, f)\n",
        "                       for f in os.listdir(path_1)\n",
        "                       if f.endswith('.txt')]\n",
        "\n",
        "path_2 = \"/content/drive/MyDrive/DeepLearning/Foody/negativeReviews/\" \n",
        "negativeFiles = [os.path.join(path_2, f)\n",
        "                       for f in os.listdir(path_2)\n",
        "                       if f.endswith('.txt')]\n",
        "numWords = []\n",
        "\n",
        "for pf in positiveFiles:\n",
        "    with open(pf, \"r\", encoding='utf-8') as f:\n",
        "        line=f.readline()\n",
        "        counter = len(line.split())\n",
        "        numWords.append(counter)       \n",
        "print('Positive files finished')\n",
        "\n",
        "for nf in negativeFiles:\n",
        "    with open(nf, \"r\", encoding='utf-8') as f:\n",
        "        line=f.readline()\n",
        "        counter = len(line.split())\n",
        "        numWords.append(counter)  \n",
        "print('Negative files finished')\n",
        "\n",
        "numFiles = len(numWords)\n",
        "print('The total number of files is', numFiles)\n",
        "print('The total number of words in the files is', sum(numWords))\n",
        "print('The average number of words in the files is', sum(numWords)/len(numWords))"
      ],
      "execution_count": null,
      "outputs": [
        {
          "output_type": "stream",
          "text": [
            "Positive files finished\n",
            "Negative files finished\n",
            "The total number of files is 30000\n",
            "The total number of words in the files is 1770824\n",
            "The average number of words in the files is 59.02746666666667\n"
          ],
          "name": "stdout"
        }
      ]
    },
    {
      "cell_type": "markdown",
      "metadata": {
        "id": "ENXK1vfLgq3-"
      },
      "source": [
        "Chúng ta có thể sử dụng thư viện Matplot để minh hoạ phân bố về chiều dài của các câu review trong tập dữ liệu:"
      ]
    },
    {
      "cell_type": "code",
      "metadata": {
        "colab": {
          "background_save": true
        },
        "id": "-TUqfi3egq3_",
        "outputId": "a51c7159-1716-4f81-e584-850a9468c7ba"
      },
      "source": [
        "import matplotlib.pyplot as plt\n",
        "%matplotlib inline\n",
        "plt.hist(numWords, 50)\n",
        "plt.xlabel('Sequence Length')\n",
        "plt.ylabel('Frequency')\n",
        "plt.axis([0, 1200, 0, 8000])\n",
        "plt.show()"
      ],
      "execution_count": null,
      "outputs": [
        {
          "output_type": "display_data",
          "data": {
            "image/png": "[encoded data removed]",
            "text/plain": [
              "<Figure size 432x288 with 1 Axes>"
            ]
          },
          "metadata": {
            "tags": []
          }
        }
      ]
    },
    {
      "cell_type": "markdown",
      "metadata": {
        "id": "ZaOgq9cogq3_"
      },
      "source": [
        "Dựa trên biểu đồ histogram ở trên chúng ta có thể thấy là 180 là kết quả tương đối hợp lý. "
      ]
    },
    {
      "cell_type": "code",
      "metadata": {
        "colab": {
          "background_save": true
        },
        "id": "jceDZvHGgq3_"
      },
      "source": [
        "maxSeqLength = 180"
      ],
      "execution_count": null,
      "outputs": []
    },
    {
      "cell_type": "markdown",
      "metadata": {
        "id": "5vvgJ5M9gq3_"
      },
      "source": [
        "Để có cảm nhận rõ hơn về dữ liệu, chúng ta có thể hiển thị một số review bất kỳ như sau."
      ]
    },
    {
      "cell_type": "code",
      "metadata": {
        "colab": {
          "background_save": true
        },
        "id": "a4qIaCSogq3_",
        "outputId": "fe463685-2718-4039-c1ab-d2d255b144b6"
      },
      "source": [
        "print('A positive sentence: ')\n",
        "fname = positiveFiles[3] # Randomly select a positive file to view\n",
        "with open(fname, encoding='utf-8') as f:\n",
        "    for lines in f:\n",
        "        print(lines)\n",
        "\n",
        "print('A negative sentence: ')\n",
        "fname = negativeFiles[10] # Randomly select a negative file to view\n",
        "with open(fname, encoding='utf-8') as f:\n",
        "    for lines in f:\n",
        "        print(lines)\n"
      ],
      "execution_count": null,
      "outputs": [
        {
          "output_type": "stream",
          "text": [
            "A positive sentence: \n",
            "Tụi mình đến quán khoảng 8g tối hơi đông nhưng đợi cũng không lâu lắm . Thấy quán làm theo thứ_tự nên cũng yên_tâm .\n",
            "\n",
            "Mình order trà sữa truyền_thống 1l và kem mây táo . Trà thì thơm béo vừa uống rất ngon . Kem mây chua_chua thơm lắm , bạn_gái mình ăn mà cứ khen . Tổng thiệt_hại 66k và rất hài_lòng .\n",
            "\n",
            "A negative sentence: \n",
            "Đồ_ăn được mặc_dù không ngon bằng Thiên_Du , phục_vụ chậm , không tận_tình , lấc_cấc , order 4 món , món ra max chậm , cả 35 ' ngồi đợi ra được 1 món sushi cá_hồi 6 cục , nhân_viên lên cứ ủa ả sao món chưa lên , chi vậy chạy xuống dưới bếp mà hỏi , hỏi trên đây ai mà trả_lời , còn có nhân_viên hỏi ai order bàn này , làm như khách thuộc hết tên mấy người_làm ở đây vậy , đồ_ăn mắc gấp đôi bên Thiên_Du , súp còn phải mua trong khi bên kia được tặng mỗi người 1 chén , ăn mà tốn tiền gửi xe nữa , tự dắt vô , tự lấy ra , bảo_vệ chỉ đứng lấy tiền , nhìn 2 chị_gái kia tự dắt xe ra mà thấy tội , làm như chỗ để xe rộng lắm hay_sao á , dắt cũng khó nữa , còn nhiều mà thôi nói vậy đủ . Chắc đây là phong_cách riêng của quán chứ hỉ ?\n",
            "\n"
          ],
          "name": "stdout"
        }
      ]
    },
    {
      "cell_type": "markdown",
      "metadata": {
        "id": "xpz6J3NDgq4A"
      },
      "source": [
        "## Chuẩn hoá văn bản và tách từ"
      ]
    },
    {
      "cell_type": "markdown",
      "metadata": {
        "id": "tl_2iGlbgq4A"
      },
      "source": [
        "Để tiết kiệm công sức và cũng nằm ngoài phạm vi của khoá học, chúng tôi đã chuẩn bị sẵn tập dữ liệu đã được tách từ. Giữa hai từ có thể ghép lại để tạo thành một khái niệm mới chúng tôi sử dụng ký tự '_' để nối các từ đó. Ví dụ: 'sinh_viên', 'sinh_học'.\n",
        "\n",
        "Chúng tôi chuẩn bị sẵn các hàm chuẩn hoá văn bản nhằm loại bỏ các ký tự đặc biệt. Tham khảo ở hàm 'cleanSentences'."
      ]
    },
    {
      "cell_type": "code",
      "metadata": {
        "colab": {
          "background_save": true
        },
        "id": "cc3O8eRegq4A"
      },
      "source": [
        "# Removes punctuation, parentheses, question marks, etc., and leaves only alphanumeric characters\n",
        "import re\n",
        "strip_special_chars = re.compile(\"[^\\w0-9 ]+\")\n",
        "\n",
        "def cleanSentences(string):\n",
        "    string = string.lower().replace(\"<br />\", \" \")\n",
        "    return re.sub(strip_special_chars, \"\", string.lower())"
      ],
      "execution_count": null,
      "outputs": []
    },
    {
      "cell_type": "markdown",
      "metadata": {
        "id": "0A2QoK3Igq4A"
      },
      "source": [
        "Bây giờ chúng ta sẽ biểu diễn 30.000 review dưới dạng các chỉ số của các từ. Tập dữ liệu positive và negative sẽ được tính hợp lại thành một ma trận 30000x180. Trong đó 30000 là số lượng review và 180 là số lượng từ tối đa cho một câu. Do bước chuẩn bị này tốn khá nhiều tài nguyên tính toán nên sau khi tính toán xong, chúng ta sẽ lưu lại để sử dụng cho những lần chạy thí nghiệm sau. Ma trận lưu trữ các chỉ số này là: 'ids'."
      ]
    },
    {
      "cell_type": "markdown",
      "metadata": {
        "id": "4dXhBE_bgq4B"
      },
      "source": [
        "### ToDo 3.2: xác định chỉ số của từng từ trong review"
      ]
    },
    {
      "cell_type": "markdown",
      "metadata": {
        "id": "eE6Y67CUgq4B"
      },
      "source": [
        "Trong phần này chúng ta sẽ tiến hành tra cứu từng từ trong review, sau đó gán vào ma trận 'ids'. Trong đó chỉ số dòng của ma trận tương ứng với file review, chỉ số cột của ma trận tương ứng với một từ của review. Trường hợp từ nào không có trong tập từ điển thì ta sẽ gán bằng chỉ số của từ 'UNK' (unknow)."
      ]
    },
    {
      "cell_type": "code",
      "metadata": {
        "colab": {
          "background_save": true
        },
        "id": "3lL9epM0gq4B",
        "outputId": "3617866e-a072-476e-d06e-a8ae6c3e55dc"
      },
      "source": [
        "ids = np.zeros((numFiles, maxSeqLength), dtype='int32')\n",
        "nFiles = 0\n",
        "# Index of Unknow word\n",
        "unk_idx = wordsList.index('UNK')\n",
        "\n",
        "for pf in positiveFiles:\n",
        "    with open(pf, \"r\", encoding=\"utf-8\") as f:\n",
        "        nIndexes = 0\n",
        "        line=f.readline()\n",
        "        cleanedLine = cleanSentences(line)\n",
        "        split = cleanedLine.split()\n",
        "        for word in split:\n",
        "            # TODO 3.2: Nếu 'word' thuộc tập 'wordsList' thì gán chỉ số của 'word' vào ma trận ids\n",
        "\n",
        "            # Ngược lại: gán 'unk_idx' vào ma trận ids\n",
        "            \n",
        "            nIndexes = nIndexes + 1\n",
        "            if nIndexes >= maxSeqLength:\n",
        "                break\n",
        "        nFiles = nFiles + 1 \n",
        "\n",
        "print('Positive files are indexed!')\n",
        "for nf in negativeFiles:\n",
        "    with open(nf, \"r\", encoding=\"utf-8\") as f:\n",
        "        nIndexes = 0\n",
        "        line=f.readline()\n",
        "        cleanedLine = cleanSentences(line)\n",
        "        split = cleanedLine.split()\n",
        "        for word in split:\n",
        "            # ToDo 3.2: tương tự như trên. Không khác gì hết.\n",
        "            \n",
        "            \n",
        "            nIndexes = nIndexes + 1\n",
        "            if nIndexes >= maxSeqLength:\n",
        "                break\n",
        "        nFiles = nFiles + 1 \n",
        "\n",
        "print('Negative files are indexed!')\n",
        "# Save ids Matrix for future uses.\n",
        "np.save(os.path.join(currentDir,'idsMatrix.npy'), ids)"
      ],
      "execution_count": null,
      "outputs": [
        {
          "output_type": "stream",
          "text": [
            "Positive files are indexed!\n",
            "Negative files are indexed!\n"
          ],
          "name": "stdout"
        }
      ]
    },
    {
      "cell_type": "code",
      "metadata": {
        "colab": {
          "background_save": true
        },
        "id": "ALvuejwEgq4B",
        "outputId": "400158c4-8a23-4b89-a7d3-e46b52889e86"
      },
      "source": [
        "# LƯU Ý: Bước thực hiện trên tương đối mất thời gian.\n",
        "# Trường hợp đã tính toán và lưu ma trận 'ids' rồi thì ta có thể load lên để sử dụng luôn\n",
        "ids = np.load(os.path.join(currentDir,'idsMatrix.npy'))\n",
        "print('Word indexes of the first review: ', ids[0])\n"
      ],
      "execution_count": null,
      "outputs": [
        {
          "output_type": "stream",
          "text": [
            "Word indexes of the first review:  [0 0 0 0 0 0 0 0 0 0 0 0 0 0 0 0 0 0 0 0 0 0 0 0 0 0 0 0 0 0 0 0 0 0 0 0 0\n",
            " 0 0 0 0 0 0 0 0 0 0 0 0 0 0 0 0 0 0 0 0 0 0 0 0 0 0 0 0 0 0 0 0 0 0 0 0 0\n",
            " 0 0 0 0 0 0 0 0 0 0 0 0 0 0 0 0 0 0 0 0 0 0 0 0 0 0 0 0 0 0 0 0 0 0 0 0 0\n",
            " 0 0 0 0 0 0 0 0 0 0 0 0 0 0 0 0 0 0 0 0 0 0 0 0 0 0 0 0 0 0 0 0 0 0 0 0 0\n",
            " 0 0 0 0 0 0 0 0 0 0 0 0 0 0 0 0 0 0 0 0 0 0 0 0 0 0 0 0 0 0 0 0]\n"
          ],
          "name": "stdout"
        }
      ]
    },
    {
      "cell_type": "markdown",
      "metadata": {
        "id": "4hFPd9c-gq4C"
      },
      "source": [
        "Nếu như quá trình chuyển từ câu dạng văn bảng sang vector các chỉ số trong từ điển ở trên đúng thì ids[0] sẽ nhận giá trị: [19898  1906  4454  5284 10661 11694 11994 18784 18569 18619 13174  9821 ...]"
      ]
    },
    {
      "cell_type": "markdown",
      "metadata": {
        "id": "CdHfqxTcgq4C"
      },
      "source": [
        "## Xây dựng hàm lấy dữ liệu train và test theo từng batch"
      ]
    },
    {
      "cell_type": "markdown",
      "metadata": {
        "id": "0IvNPJUFgq4C"
      },
      "source": [
        "Dưới đây chúng tôi xây dựng các hàm để lấy dữ liệu train và test theo từng batch. Bạn hãy giải thích tại sao lại có các con số 13999, 14999, 15999, 29999 nhé."
      ]
    },
    {
      "cell_type": "code",
      "metadata": {
        "colab": {
          "background_save": true
        },
        "id": "7ckkwo8Ugq4C"
      },
      "source": [
        "from random import randint\n",
        "\n",
        "def getTrainBatch():\n",
        "    labels = []\n",
        "    arr = np.zeros([batchSize, maxSeqLength])\n",
        "    for i in range(batchSize):\n",
        "        if (i % 2 == 0): \n",
        "            # Pick positive samples randomly\n",
        "            num = randint(1,13999)\n",
        "            labels.append([1,0])\n",
        "        else:\n",
        "            # Pick negative samples randomly\n",
        "            num = randint(15999,29999)\n",
        "            labels.append([0,1])\n",
        "        arr[i] = ids[num-1:num]\n",
        "    return arr, labels\n",
        "\n",
        "def getTestBatch():\n",
        "    labels = []\n",
        "    arr = np.zeros([batchSize, maxSeqLength])\n",
        "    for i in range(batchSize):\n",
        "        num = randint(13999,15999)\n",
        "        if (num <= 14999):\n",
        "            labels.append([1,0])\n",
        "        else:\n",
        "            labels.append([0,1])\n",
        "        arr[i] = ids[num-1:num]\n",
        "    return arr, labels"
      ],
      "execution_count": null,
      "outputs": []
    },
    {
      "cell_type": "markdown",
      "metadata": {
        "id": "cUUjcPQygq4C"
      },
      "source": [
        "# 3. Xây dựng RNN Model với Tensorflow"
      ]
    },
    {
      "cell_type": "markdown",
      "metadata": {
        "id": "w3L8Wia5gq4D"
      },
      "source": [
        "Đầu tiên chúng tôi sẽ khởi tạo các tham số cho mô hình mạng RNN với các cell là các LSTM. Kiến trúc mạng ở đây bao gồm 128 đơn vị cho mỗi lớp, số lượng layer là 2, số lượng phân lớp là 2 và số vòng lặp khi huấn luyện là 30000."
      ]
    },
    {
      "cell_type": "code",
      "metadata": {
        "colab": {
          "background_save": true
        },
        "id": "z65yiMItgq4D"
      },
      "source": [
        "# Initialize paramters\n",
        "numDimensions = 300\n",
        "batchSize = 64\n",
        "lstmUnits = 128\n",
        "nLayers = 2\n",
        "numClasses = 2\n",
        "iterations = 30000"
      ],
      "execution_count": null,
      "outputs": []
    },
    {
      "cell_type": "markdown",
      "metadata": {
        "id": "G3Ly7tpXgq4D"
      },
      "source": [
        "Để lưu trữ dữ liệu input và ouput, chúng ta sẽ sử dụng hai kiểu dữ liệu placeholder. Một trong những điều quan trọng nhất khi khởi tạo các biến input và output này là xác định kích thước của các tensor. Mỗi output của mạng (hay còn gọi là label) sẽ là một vector one hot với hai giá trị tương ứng với hai loại cảm xúc: [1, 0] cho positive và [0, 1] cho negative."
      ]
    },
    {
      "cell_type": "markdown",
      "metadata": {
        "id": "24S9fY4Ogq4D"
      },
      "source": [
        "![caption](Images/data_batch.png)"
      ]
    },
    {
      "cell_type": "markdown",
      "metadata": {
        "id": "bzSXFYQtgq4E"
      },
      "source": [
        "## ToDo 3.3: Xác định input và output"
      ]
    },
    {
      "cell_type": "markdown",
      "metadata": {
        "id": "C5XKmtFJgq4F"
      },
      "source": [
        "Khởi tạo hai biến 'inputs' và 'labels' bằng kiểu placeholder."
      ]
    },
    {
      "cell_type": "code",
      "metadata": {
        "colab": {
          "background_save": true
        },
        "id": "S-R5Pemagq4H"
      },
      "source": [
        "import tensorflow.compat.v1 as tf\n",
        "tf.disable_v2_behavior()\n",
        "from tensorflow.python.framework import ops\n",
        "ops.reset_default_graph()\n",
        "\n",
        "# TODO 3.3: Khởi tạo hai biến 'inputs' và 'labels'\n",
        "labels = tf.placeholder(tf.float32, [batchSize, numClasses])\n",
        "inputs = tf.placeholder(tf.int32, [batchSize, maxSeqLength])"
      ],
      "execution_count": null,
      "outputs": []
    },
    {
      "cell_type": "markdown",
      "metadata": {
        "id": "Bl8EuIAKgq4H"
      },
      "source": [
        "Sau đó tạo dữ liệu word vector từ khối dữ liệu đầu vào với ma trận word embedding. Nếu như quá trình khởi tạo đúng thì sẽ tạo ra các kiểu dữ liệu sau:\n",
        "labels --> Tensor(\"Placeholder:0\", shape=(64, 2), dtype=float32)\n",
        "inputs --> Tensor(\"Placeholder_1:0\", shape=(64, 10), dtype=int32)"
      ]
    },
    {
      "cell_type": "markdown",
      "metadata": {
        "id": "jDE_uJcwgq4I"
      },
      "source": [
        "![caption](Images/embedding_data.png)"
      ]
    },
    {
      "cell_type": "code",
      "metadata": {
        "colab": {
          "background_save": true
        },
        "id": "4mZK25N9gq4I"
      },
      "source": [
        "data = tf.nn.embedding_lookup(wordVectors, inputs)"
      ],
      "execution_count": null,
      "outputs": []
    },
    {
      "cell_type": "markdown",
      "metadata": {
        "id": "ueKa7muogq4I"
      },
      "source": [
        "Như vậy sau bước này chúng ta đã có dữ liệu để đưa vào mạng mạng các LSTM. Để khởi tạo một LSTM chúng ta sử dụng hàm tf.nn.rnn_cell.BasicLSTMCell. Hàm này cần tham số đầu vào là số lượng đơn vị muốn khởi tạo. Đây chính là một hyperparamter đã được khởi tạo trước đó.\n",
        "Để chống lại việc overfitting, chúng ta sử dụng lớp dropout. \n",
        "\n",
        "Để tăng tính phức tạp cho kiến trúc mạng chúng ta chồng các lớp LSTM lên nhau (Stack LSTM Layers). Trong trường hợp này chúng ta sử dụng 2 lớp LSTM. Việc chồng thêm các lớp LSTM sẽ giúp cho mô hình có khả năng nhớ nhiều thông tin hơn nhưng đồng thời cũng làm tăng số lượng tham số khi huấn luyện. Điều này cũng có nghĩa là sẽ làm tăng thời gian huấn luyện cũng như là cần thêm nhiều dữ liệu hơn.\n",
        "\n",
        "Cuối cùng là đưa toàn bộ dữ liệu đầu vào vào mạng các LSTM sử dụng hàm tf.nn.dynamic_rnn. Chi tiết kiến trúc mạng LSTM sử dụng cho bài tập này được mô tả trong hình sau:\n",
        "\n",
        "![caption](Images/architecture.png)"
      ]
    },
    {
      "cell_type": "code",
      "metadata": {
        "id": "FPsxvOvMgq4I"
      },
      "source": [
        "def generate_a_lstm_layer():\n",
        "    # Khởi tạo một LSTM layer với 'lstmUnits' unit sử dụng hàm tf.contrib.rnn.BasicLSTMCell\n",
        "    lstmCell = tf.compat.v1.nn.rnn_cell.BasicLSTMCell(lstmUnits)\n",
        "    # Sau đó tạo một lớp dropout để chống overfitting với hệ số out_keep_prob bằng 0.75\n",
        "    # Sử dụng hàm tf.contrib.rnn.DropoutWrapper\n",
        "\n",
        "    lstmCell = tf.compat.v1.nn.rnn_cell.DropoutWrapper(cell=lstmCell, output_keep_prob=0.75)\n",
        "    return lstmCell\n",
        "\n",
        "# Sau khi đã có hàm tạo một LSTM Layer, ta sử dụng hàm này để chồng các LSTM lên\n",
        "# Stack các LSTM layer với hàm tf.nn.rnn_cell.MultiRNNCell\n",
        "tf.compat.v1.nn.rnn_cell.MultiRNNCell = generate_a_lstm_layer\n",
        "# Feed data variable vào mạng LSTM sử dụng hàm tf.nn.dynamic_rnn\n",
        "outputs = tf.compat.v1.nn.dynamic_rnn(cell, data, dtype=tf.float32)\n",
        "print(outputs)"
      ],
      "execution_count": null,
      "outputs": []
    },
    {
      "cell_type": "markdown",
      "metadata": {
        "id": "5xoSun0agq4J"
      },
      "source": [
        "Sau khi ra khỏi mạng LSTM, biến outputs sẽ là một tensor có kích thước [batchSize x maxSeqLength x lstmUnits], cụ thể là [64 x 180 x 128]."
      ]
    },
    {
      "cell_type": "markdown",
      "metadata": {
        "id": "ihJQeN4Qgq4J"
      },
      "source": [
        "Sau đó, chúng ta chỉ lấy dữ liệu ở LSTM cell cuối cùng và cho đi qua lớp kết nối đầy đủ để phân loại thành 2 trạng thái. Chỉ số của LSTM cell cuối cùng là 179 (do có 180 cell theo chiều ngang)  nên để có thể lấy được giá trị ta sẽ chuyển vị về tensor có kích thước [maxSeqLength x batchSize x lstmUnits] hay [180 x 64 x 128]. Sử dụng hàm tf.gather để lấy tensor thứ 179 có kích thước [64 x 128] bao gồm 64 mẫu vector 128 chiều. Vector 128 chiều này sẽ được đưa vào lớp fully connected để chuyển đổi về vector 2 chiều tương ứng với 2 trạng thái.\n",
        "\n",
        "Lớp kết nối đầy đủ bao gồm các bộ tham số 'weight' và 'bias' để thực hiện việc dự đoán kết quả. Bước này chính là tạo một lớp Fully Connected như trong sơ đồ kiến trúc mạng LSTM."
      ]
    },
    {
      "cell_type": "code",
      "metadata": {
        "id": "mGIHWO17gq4J"
      },
      "source": [
        "weight = tf.Variable(tf.truncated_normal([lstmUnits, numClasses]))\n",
        "bias = tf.Variable(tf.constant(0.1, shape=[numClasses]))\n",
        "\n",
        "# Lấy giá trị output tại LSTM cell cuối cùng\n",
        "outputs = tf.transpose(outputs, [1, 0, 2])\n",
        "last = tf.gather(outputs, int(value.get_shape()[0]) - 1)\n",
        "# Đưa qua mạng Fully Connected mà không có activation function\n",
        "prediction = (tf.matmul(last, weight) + bias)"
      ],
      "execution_count": null,
      "outputs": []
    },
    {
      "cell_type": "markdown",
      "metadata": {
        "id": "hrtVU5wygq4J"
      },
      "source": [
        "Để xác định độ chính xác của hệ thống, ta đếm số lượng labels khớp với giá trị dự đoán (prediction). Sau đó tính độ chính xác bằng cách tính giá trị trung bình của các kết quả trả về đúng."
      ]
    },
    {
      "cell_type": "code",
      "metadata": {
        "id": "yC47uIBXgq4J"
      },
      "source": [
        "correctResult = tf.equal(tf.argmax(prediction,1), tf.argmax(labels,1))\n",
        "accuracy = tf.reduce_mean(tf.cast(correctResult, tf.float32))"
      ],
      "execution_count": null,
      "outputs": []
    },
    {
      "cell_type": "markdown",
      "metadata": {
        "id": "OfrcpwXIgq4K"
      },
      "source": [
        "Sau đó chúng ta sẽ xác định hàm độ lỗi sử dụng softmax cross entropy được tính từ dữ liệu dự đoán và tập labels. Cuối cùng là chọn thuật toán tối ưu với tham số learning rate mặc định là 0.001. "
      ]
    },
    {
      "cell_type": "code",
      "metadata": {
        "id": "5JWTst0egq4K"
      },
      "source": [
        "loss = tf.reduce_mean(tf.nn.softmax_cross_entropy_with_logits(logits=prediction, labels=labels))\n",
        "optimizer = tf.train.AdamOptimizer().minimize(loss)"
      ],
      "execution_count": null,
      "outputs": []
    },
    {
      "cell_type": "markdown",
      "metadata": {
        "id": "-Ao5Q9u5gq4K"
      },
      "source": [
        "## Sử dụng Tensorboard để visualize kết quả"
      ]
    },
    {
      "cell_type": "markdown",
      "metadata": {
        "id": "dQ5bsbLygq4K"
      },
      "source": [
        "Trong quá trình huấn luyện, chương trình sẽ ghi log về độ lỗi và độ chính xác trên tập train vào thư mục 'tensorboard', lưu lại model sau mỗi 2000 vòng lặp ở thư mục 'models'. Việc huấn luyện trên 30,000 vòng lặp mất khoảng vài tiếng với GPU K80 được cung cấp bởi Google Colab."
      ]
    },
    {
      "cell_type": "markdown",
      "metadata": {
        "id": "-A_M_QLfgq4K"
      },
      "source": [
        "# 4. Huấn luyện"
      ]
    },
    {
      "cell_type": "markdown",
      "metadata": {
        "id": "txSoDW12gq4K"
      },
      "source": [
        "Với mỗi vòng lặp, ta sẽ lấy ra một batch dữ liệu train để đưa vào mạng sử dụng `feed_dict`. với các tham số input và label là các placeholders. Bước huấn luyện này được lặp lại cho đến khi hết số lần cần huấn luyện."
      ]
    },
    {
      "cell_type": "code",
      "metadata": {
        "id": "q7jmZR_Mgq4L"
      },
      "source": [
        "import datetime\n",
        "\n",
        "tf.summary.scalar('Loss', loss)\n",
        "tf.summary.scalar('Accuracy', accuracy)\n",
        "merged = tf.summary.merge_all()\n",
        "logdir = \"tensorboard/\" + datetime.datetime.now().strftime(\"%Y%m%d-%H%M%S\") + \"/\""
      ],
      "execution_count": null,
      "outputs": []
    },
    {
      "cell_type": "code",
      "metadata": {
        "id": "zw2x4M9Ogq4L"
      },
      "source": [
        "sess = tf.InteractiveSession()\n",
        "writer = tf.summary.FileWriter(logdir, sess.graph)\n",
        "saver = tf.train.Saver()\n",
        "sess.run(tf.global_variables_initializer())\n",
        "\n",
        "for i in range(iterations):\n",
        "    # TODO 3.5\n",
        "    # Get next training batch\n",
        "    ...\n",
        "    # Feed to optimizer\n",
        "    ...\n",
        "    #Write summary to Tensorboard\n",
        "    if (i % 50 == 0):\n",
        "        summary = sess.run(merged, {input_data: nextBatch, labels: nextBatchLabels})\n",
        "        writer.add_summary(summary, i)\n",
        "\n",
        "    # Save model every 2000 training iterations\n",
        "    if (i % 2000 == 0 and i != 0):\n",
        "        save_path = saver.save(sess, os.path.join(currentDir,\"models/pretrained_lstm.ckpt\"), global_step=i)\n",
        "        print(\"saved to %s\" % save_path)\n",
        "writer.close()"
      ],
      "execution_count": null,
      "outputs": []
    },
    {
      "cell_type": "markdown",
      "metadata": {
        "id": "RjhtCdeagq4L"
      },
      "source": [
        "# 5. Load mô hình đã train và đánh giá mô hình"
      ]
    },
    {
      "cell_type": "markdown",
      "metadata": {
        "id": "M1x6Qolegq4L"
      },
      "source": [
        "Thời gian huấn luyện mạng khá lâu, nên trong quá trình mạng đang được huấn luyện, ta sẽ lưu lại một số checkpoint. Để có thể test thử trên một checkpoint mới nhất ta sử dụng hàm tf.train.latest_checkpoint và truyền vào tên thư mục muốn lấy model mới nhất."
      ]
    },
    {
      "cell_type": "code",
      "metadata": {
        "id": "iBy4s2Stgq4L"
      },
      "source": [
        "sess = tf.InteractiveSession()\n",
        "saver = tf.train.Saver()\n",
        "saver.restore(sess, tf.train.latest_checkpoint(os.path.join(currentDir,'models')))"
      ],
      "execution_count": null,
      "outputs": []
    },
    {
      "cell_type": "markdown",
      "metadata": {
        "id": "FAO3XpMhgq4L"
      },
      "source": [
        "Sau đó, với mỗi batch dữ liệu test, ta sẽ tiến hành test và tính độ chính xác"
      ]
    },
    {
      "cell_type": "markdown",
      "metadata": {
        "id": "tXcUM64bgq4M"
      },
      "source": [
        "### ToDo 3.6: Test mô hình"
      ]
    },
    {
      "cell_type": "code",
      "metadata": {
        "id": "mIl82CTdgq4M"
      },
      "source": [
        "# Test on 10 batches\n",
        "iterations = 10\n",
        "for i in range(iterations):\n",
        "    nextBatch, nextBatchLabels = getTestBatch()\n",
        "    # TODO 3.6: Tính độ chính xác 'accuracy' trên các test batch và gán vào 'test_acc'\n",
        "    ...\n",
        "    print(\"Accuracy for this batch:\", test_acc)"
      ],
      "execution_count": null,
      "outputs": []
    },
    {
      "cell_type": "markdown",
      "metadata": {
        "id": "t0MMJoDegq4M"
      },
      "source": [
        "Do các bộ test được lấy ngẫu nhiên nên độ chính xác trong quá trình này cũng dao động từ 70% đến 90%."
      ]
    },
    {
      "cell_type": "markdown",
      "metadata": {
        "id": "MIKpCqSjgq4M"
      },
      "source": [
        "## ToDo 3.7: Viết hàm tổng hợp để dự đoán cảm xúc từ câu tiếng Việt"
      ]
    },
    {
      "cell_type": "markdown",
      "metadata": {
        "id": "iwRnYyW4gq4M"
      },
      "source": [
        "Câu cuối cùng này đòi hỏi đòi hỏi các bạn phải vận dụng tư duy tổng hợp để gom tất cả những bước đã thực hiện trước đó thành một quy trình hoàn chỉnh. Các bạn cần viết một hàm hoàn chỉnh với đầu vào là  một câu tiếng Việt cho trước, đầu ra là cho biết câu trên có cảm xúc tích cực hay tiêu cực."
      ]
    },
    {
      "cell_type": "code",
      "metadata": {
        "id": "UPOz2ghpgq4M"
      },
      "source": [
        "input_sentence = 'Món này ăn ngon mê ly luôn. Vị ngọt và thơm quá trời quá đất.'\n",
        "# TODO 3.7 Các bạn vận dụng toàn bộ quy trình đã thực hiện trước đó\n",
        "# để dự đoán xem câu này có cảm xúc tích cực hay tiêu cực\n",
        "# Câu này làm khá dài và có tính chất tổng hợp\n",
        "\n",
        "\n"
      ],
      "execution_count": null,
      "outputs": []
    },
    {
      "cell_type": "markdown",
      "metadata": {
        "collapsed": true,
        "id": "kRoGgAzxgq4N"
      },
      "source": [
        "# Kết luận"
      ]
    },
    {
      "cell_type": "markdown",
      "metadata": {
        "id": "V8kb_hyrgq4N"
      },
      "source": [
        "Như vậy qua bài tập này, các bạn được ôn lại mô hình Word2Vec và sử dụng mô hình này để biểu diễn cho một văn bản. Sử dụng cách biểu diễn này để đưa vào mô hình RNN với nhiều đơn vị LSTM. Các bạn có thể thử nghiệm trên các cấu hình khác nhau bằng cách thay đổi các hyperparameter."
      ]
    },
    {
      "cell_type": "code",
      "metadata": {
        "id": "8BhJopWDgq4N"
      },
      "source": [
        ""
      ],
      "execution_count": null,
      "outputs": []
    }
  ]
}